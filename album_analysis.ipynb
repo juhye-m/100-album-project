{
 "cells": [
  {
   "cell_type": "code",
   "execution_count": 17,
   "metadata": {},
   "outputs": [],
   "source": [
    "# imports\n",
    "from dotenv import load_dotenv\n",
    "import os\n",
    "import pandas as pd\n",
    "import spotipy\n",
    "from spotipy.oauth2 import SpotifyClientCredentials\n",
    "from IPython.display import display"
   ]
  },
  {
   "cell_type": "code",
   "execution_count": 2,
   "metadata": {},
   "outputs": [],
   "source": [
    "# load env variables\n",
    "load_dotenv()\n",
    "\n",
    "# get the client id and secret from the env\n",
    "client_id = os.getenv('SPOTIPY_CLIENT_ID')\n",
    "client_secret = os.getenv('SPOTIPY_CLIENT_SECRET')"
   ]
  },
  {
   "cell_type": "code",
   "execution_count": 3,
   "metadata": {},
   "outputs": [],
   "source": [
    "# set up spotipy with my client credentials. use the sp object to call methods / interact with the api\n",
    "sp = spotipy.Spotify(auth_manager=SpotifyClientCredentials(client_id=client_id, client_secret=client_secret))"
   ]
  },
  {
   "cell_type": "code",
   "execution_count": 4,
   "metadata": {},
   "outputs": [],
   "source": [
    "# format time duration\n",
    "def format_duration(duration_ms):\n",
    "    seconds = (duration_ms // 1000) % 60\n",
    "    minutes = (duration_ms // (1000 * 60)) % 60\n",
    "    hours = (duration_ms // (1000 * 60 * 60))\n",
    "    return f\"{hours}:{minutes:02}:{seconds:02}\""
   ]
  },
  {
   "cell_type": "code",
   "execution_count": 5,
   "metadata": {},
   "outputs": [],
   "source": [
    "def get_tracks_for_album(album_id):\n",
    "    album_tracks = sp.album_tracks(album_id)\n",
    "    return album_tracks['items']"
   ]
  },
  {
   "cell_type": "code",
   "execution_count": 6,
   "metadata": {},
   "outputs": [],
   "source": [
    "def get_song_features(track_id):\n",
    "    song_features = sp.audio_features(track_id)\n",
    "    return song_features[0] if song_features else None"
   ]
  },
  {
   "cell_type": "code",
   "execution_count": 7,
   "metadata": {},
   "outputs": [],
   "source": [
    "# this is a list of dicts, and which track it comes from is unspecified\n",
    "def get_all_audio_features(track_ids):\n",
    "    features_list = []\n",
    "    for track_id in track_ids:\n",
    "        features = get_song_features(track_id)\n",
    "        if features:\n",
    "            features_list.append(features)\n",
    "    return features_list"
   ]
  },
  {
   "cell_type": "code",
   "execution_count": 8,
   "metadata": {},
   "outputs": [],
   "source": [
    "# function that takes in album and artist, and outputs the album info\n",
    "def get_album_info(album_title, artist_name):\n",
    "    query = f'album:{album_title} artist:{artist_name}' # spotify api syntax for this search query\n",
    "    result = sp.search(q=query, type='album', limit=1) # returns the album, 1\n",
    "    \n",
    "    # print(result)\n",
    "    if result['albums']['items']:\n",
    "        # parse JSON to get the first (and only) album for its info\n",
    "        album = result['albums']['items'][0]\n",
    "        album_id = album['id']\n",
    "\n",
    "        # detailed info like genre and popularity\n",
    "        album_details = sp.album(album['id'])\n",
    "        print(album_details['popularity'])\n",
    "        # print(album_details['genres'])\n",
    "\n",
    "        # Get album tracks\n",
    "        tracks = get_tracks_for_album(album_id)\n",
    "\n",
    "        # track duration sum for album duration\n",
    "        track_durations = [track['duration_ms'] for track in tracks]\n",
    "        total_duration_ms = sum(track_durations)\n",
    "\n",
    "        # extract details from JSON and put into new dict of info for the album\n",
    "        album_data = {\n",
    "            'album_name': album['name'],\n",
    "            'album_id': album['id'],\n",
    "            'artist_name': album['artists'][0]['name'], #this is just 1 artist for now, but later can make a list if theres multiple primary artists\n",
    "            'release_date': album['release_date'],\n",
    "            'total_tracks': album['total_tracks'],\n",
    "            'duration': format_duration(total_duration_ms),\n",
    "            'genres': album.get('genres', []), #avoid error if no genres specified\n",
    "            'popularity': album_details['popularity'],\n",
    "            'uri': album['uri']\n",
    "        }\n",
    "        return album_data\n",
    "    else:\n",
    "        return None"
   ]
  },
  {
   "cell_type": "code",
   "execution_count": 9,
   "metadata": {},
   "outputs": [],
   "source": [
    "def read_csv(file_path):\n",
    "    return pd.read_csv(file_path)"
   ]
  },
  {
   "cell_type": "code",
   "execution_count": 19,
   "metadata": {},
   "outputs": [],
   "source": [
    "# Main function\n",
    "def main():\n",
    "    # csv file path\n",
    "    csv_file_path = 'albums.csv'\n",
    "\n",
    "    # read csv into pandas dataframe\n",
    "    df = read_csv(csv_file_path)\n",
    "\n",
    "    # process the df \n",
    "    album_data_list = []\n",
    "    # go through each row of the df (each album) and get the data \n",
    "    for index, row in df.iterrows():\n",
    "        album_title = row['album_title']\n",
    "        artist_name = row['artist_name']\n",
    "\n",
    "        album_data = get_album_info(album_title, artist_name)\n",
    "\n",
    "        if album_data:\n",
    "            track_ids = [track['id'] for track in get_tracks_for_album(album_data['album_id'])]\n",
    "            audio_features = get_all_audio_features(track_ids)\n",
    "            album_data['audio_features'] = audio_features  # Store audio features in the album data\n",
    "            album_data_list.append(album_data)\n",
    "\n",
    "    # convert this album data list to a new df with all the info it pulled\n",
    "    album_data_df = pd.DataFrame(album_data_list)\n",
    "\n",
    "    # here, we can analyze the data or do more with it\n",
    "    # print(album_data_df)\n",
    "    # print(type(album_data_df))\n",
    "    # print(album_data_df.head())  # Show first few rows to confirm content\n",
    "\n",
    "    # album_data_df # in jupyter notebook, this shows the df\n",
    "    # album_data_df.head()  # Shows the first 5 rows\n",
    "\n",
    "    display(album_data_df)\n",
    "\n",
    "    # output the average length (calculate)\n",
    "        # Calculate average album length\n",
    "    # if not album_data_df.empty:\n",
    "    #     average_length = album_data_df['total_duration_min'].mean()\n",
    "    #     print(f'Average album duration: {average_length:.2f} minutes') # add a MM:SS function later\n",
    "    # else:\n",
    "    #     print('No album data available.')\n",
    "\n",
    "    # access genre by album name\n",
    "    # album_name = 'GUTS'\n",
    "    # first_album_genre = album_data_df[album_data_df['album_name'] == album_name]['genres'].values[0]\n",
    "    # print(first_album_genre)"
   ]
  },
  {
   "cell_type": "code",
   "execution_count": 20,
   "metadata": {},
   "outputs": [
    {
     "name": "stdout",
     "output_type": "stream",
     "text": [
      "88\n",
      "92\n",
      "84\n"
     ]
    },
    {
     "data": {
      "text/html": [
       "<div>\n",
       "<style scoped>\n",
       "    .dataframe tbody tr th:only-of-type {\n",
       "        vertical-align: middle;\n",
       "    }\n",
       "\n",
       "    .dataframe tbody tr th {\n",
       "        vertical-align: top;\n",
       "    }\n",
       "\n",
       "    .dataframe thead th {\n",
       "        text-align: right;\n",
       "    }\n",
       "</style>\n",
       "<table border=\"1\" class=\"dataframe\">\n",
       "  <thead>\n",
       "    <tr style=\"text-align: right;\">\n",
       "      <th></th>\n",
       "      <th>album_name</th>\n",
       "      <th>album_id</th>\n",
       "      <th>artist_name</th>\n",
       "      <th>release_date</th>\n",
       "      <th>total_tracks</th>\n",
       "      <th>duration</th>\n",
       "      <th>genres</th>\n",
       "      <th>popularity</th>\n",
       "      <th>uri</th>\n",
       "      <th>audio_features</th>\n",
       "    </tr>\n",
       "  </thead>\n",
       "  <tbody>\n",
       "    <tr>\n",
       "      <th>0</th>\n",
       "      <td>GUTS</td>\n",
       "      <td>1xJHno7SmdVtZAtXbdbDZp</td>\n",
       "      <td>Olivia Rodrigo</td>\n",
       "      <td>2023-09-08</td>\n",
       "      <td>12</td>\n",
       "      <td>0:39:18</td>\n",
       "      <td>[]</td>\n",
       "      <td>88</td>\n",
       "      <td>spotify:album:1xJHno7SmdVtZAtXbdbDZp</td>\n",
       "      <td>[{'danceability': 0.421, 'energy': 0.695, 'key...</td>\n",
       "    </tr>\n",
       "    <tr>\n",
       "      <th>1</th>\n",
       "      <td>SOUR</td>\n",
       "      <td>6s84u2TUpR3wdUv4NgKA2j</td>\n",
       "      <td>Olivia Rodrigo</td>\n",
       "      <td>2021-05-21</td>\n",
       "      <td>11</td>\n",
       "      <td>0:34:46</td>\n",
       "      <td>[]</td>\n",
       "      <td>92</td>\n",
       "      <td>spotify:album:6s84u2TUpR3wdUv4NgKA2j</td>\n",
       "      <td>[{'danceability': 0.672, 'energy': 0.526, 'key...</td>\n",
       "    </tr>\n",
       "    <tr>\n",
       "      <th>2</th>\n",
       "      <td>thank u, next</td>\n",
       "      <td>2fYhqwDWXjbpjaIJPEfKFw</td>\n",
       "      <td>Ariana Grande</td>\n",
       "      <td>2019-02-08</td>\n",
       "      <td>12</td>\n",
       "      <td>0:41:10</td>\n",
       "      <td>[]</td>\n",
       "      <td>84</td>\n",
       "      <td>spotify:album:2fYhqwDWXjbpjaIJPEfKFw</td>\n",
       "      <td>[{'danceability': 0.729, 'energy': 0.476, 'key...</td>\n",
       "    </tr>\n",
       "  </tbody>\n",
       "</table>\n",
       "</div>"
      ],
      "text/plain": [
       "      album_name                album_id     artist_name release_date  \\\n",
       "0           GUTS  1xJHno7SmdVtZAtXbdbDZp  Olivia Rodrigo   2023-09-08   \n",
       "1           SOUR  6s84u2TUpR3wdUv4NgKA2j  Olivia Rodrigo   2021-05-21   \n",
       "2  thank u, next  2fYhqwDWXjbpjaIJPEfKFw   Ariana Grande   2019-02-08   \n",
       "\n",
       "   total_tracks duration genres  popularity  \\\n",
       "0            12  0:39:18     []          88   \n",
       "1            11  0:34:46     []          92   \n",
       "2            12  0:41:10     []          84   \n",
       "\n",
       "                                    uri  \\\n",
       "0  spotify:album:1xJHno7SmdVtZAtXbdbDZp   \n",
       "1  spotify:album:6s84u2TUpR3wdUv4NgKA2j   \n",
       "2  spotify:album:2fYhqwDWXjbpjaIJPEfKFw   \n",
       "\n",
       "                                      audio_features  \n",
       "0  [{'danceability': 0.421, 'energy': 0.695, 'key...  \n",
       "1  [{'danceability': 0.672, 'energy': 0.526, 'key...  \n",
       "2  [{'danceability': 0.729, 'energy': 0.476, 'key...  "
      ]
     },
     "metadata": {},
     "output_type": "display_data"
    }
   ],
   "source": [
    "main()"
   ]
  }
 ],
 "metadata": {
  "kernelspec": {
   "display_name": "Python 3",
   "language": "python",
   "name": "python3"
  },
  "language_info": {
   "codemirror_mode": {
    "name": "ipython",
    "version": 3
   },
   "file_extension": ".py",
   "mimetype": "text/x-python",
   "name": "python",
   "nbconvert_exporter": "python",
   "pygments_lexer": "ipython3",
   "version": "3.11.9"
  }
 },
 "nbformat": 4,
 "nbformat_minor": 2
}
