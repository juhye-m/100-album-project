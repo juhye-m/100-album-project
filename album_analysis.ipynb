{
 "cells": [
  {
   "cell_type": "code",
   "execution_count": null,
   "metadata": {},
   "outputs": [],
   "source": [
    "# imports\n",
    "from dotenv import load_dotenv\n",
    "import os\n",
    "import pandas as pd\n",
    "import spotipy\n",
    "from spotipy.oauth2 import SpotifyClientCredentials"
   ]
  },
  {
   "cell_type": "code",
   "execution_count": null,
   "metadata": {},
   "outputs": [],
   "source": [
    "# load env variables\n",
    "load_dotenv()\n",
    "\n",
    "# get the client id and secret from the env\n",
    "client_id = os.getenv('SPOTIPY_CLIENT_ID')\n",
    "client_secret = os.getenv('SPOTIPY_CLIENT_SECRET')"
   ]
  },
  {
   "cell_type": "code",
   "execution_count": null,
   "metadata": {},
   "outputs": [],
   "source": [
    "# set up spotipy with my client credentials. use the sp object to call methods / interact with the api\n",
    "sp = spotipy.Spotify(auth_manager=SpotifyClientCredentials(client_id=client_id, client_secret=client_secret))"
   ]
  },
  {
   "cell_type": "code",
   "execution_count": null,
   "metadata": {},
   "outputs": [],
   "source": [
    "# function that takes in album and artist, and outputs the album info\n",
    "def get_album_info(album_title, artist_name):\n",
    "    query = f'album:{album_title} artist:{artist_name}' # spotify api syntax for this search query\n",
    "    result = sp.search(q=query, type='album', limit=1) # returns the album, 1\n",
    "    \n",
    "    if result['albums']['items']:\n",
    "        # parse JSON to get the first (and only) album for its info\n",
    "        album = result['albums']['items'][0]\n",
    "\n",
    "        # extract details from JSON and put into new dict of info for the album\n",
    "        return {\n",
    "            'album_name': album['name'],\n",
    "            'album_id': album['id'],\n",
    "            'artist_name': album['artists'][0]['name'], #this is just 1 artist for now, but later can make a list if theres multiple primary artists\n",
    "            'release_date': album['release_date'],\n",
    "            'total_tracks': album['total_tracks'],\n",
    "            'uri': album['uri']\n",
    "        }\n",
    "    else:\n",
    "        return None #or should I use \"album not found\"?"
   ]
  },
  {
   "cell_type": "code",
   "execution_count": null,
   "metadata": {},
   "outputs": [],
   "source": [
    "def main():\n",
    "    # csv file path\n",
    "    csv_file_path = 'albums.csv'\n",
    "\n",
    "    # read csv into pandas dataframe\n",
    "    df = pd.read_csv(csv_file_path)\n",
    "\n",
    "   \n",
    "    # process the df \n",
    "    album_data_list = []\n",
    "    # go through each row of the df (each album) and get the data \n",
    "    for index, row in df.iterrows():\n",
    "        album_title = row['album_title']\n",
    "        artist_name = row['artist_name']\n",
    "\n",
    "        album_data = get_album_info(album_title, artist_name)\n",
    "\n",
    "        if album_data:\n",
    "            album_data_list.append(album_data)\n",
    "\n",
    "    # convert this album data list to a new df with all the info it pulled\n",
    "    album_data_df = pd.DataFrame(album_data_list)\n",
    "\n",
    "    # here, we can analyze the data or do more with it\n",
    "    # print(album_data_df)\n",
    "    album_data_df  # Display the DataFrame"
   ]
  }
 ],
 "metadata": {
  "language_info": {
   "name": "python"
  }
 },
 "nbformat": 4,
 "nbformat_minor": 2
}
