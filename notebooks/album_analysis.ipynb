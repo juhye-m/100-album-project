{
 "cells": [
  {
   "cell_type": "code",
   "execution_count": 2,
   "metadata": {},
   "outputs": [],
   "source": [
    "# imports\n",
    "from dotenv import load_dotenv\n",
    "import os\n",
    "import pandas as pd\n",
    "import spotipy\n",
    "from spotipy.oauth2 import SpotifyClientCredentials\n",
    "from IPython.display import display\n",
    "import numpy as np"
   ]
  },
  {
   "cell_type": "code",
   "execution_count": 3,
   "metadata": {},
   "outputs": [],
   "source": [
    "# load env variables\n",
    "load_dotenv()\n",
    "\n",
    "# get the client id and secret from the env\n",
    "client_id = os.getenv('SPOTIPY_CLIENT_ID')\n",
    "client_secret = os.getenv('SPOTIPY_CLIENT_SECRET')"
   ]
  },
  {
   "cell_type": "code",
   "execution_count": 4,
   "metadata": {},
   "outputs": [],
   "source": [
    "# set up spotipy with my client credentials. use the sp object to call methods / interact with the api\n",
    "sp = spotipy.Spotify(auth_manager=SpotifyClientCredentials(client_id=client_id, client_secret=client_secret))"
   ]
  },
  {
   "cell_type": "code",
   "execution_count": 5,
   "metadata": {},
   "outputs": [],
   "source": [
    "# Set pandas to display longer content without truncation\n",
    "# pd.set_option('display.max_colwidth', None)  # No limit on column width\n",
    "# pd.set_option('display.max_rows', None)      # No limit on rows displayed"
   ]
  },
  {
   "cell_type": "code",
   "execution_count": 6,
   "metadata": {},
   "outputs": [],
   "source": [
    "# format time duration\n",
    "def format_duration(duration_ms):\n",
    "    # HH:MM:SS format\n",
    "    seconds = (duration_ms // 1000) % 60\n",
    "    minutes = (duration_ms // (1000 * 60)) % 60\n",
    "    hours = (duration_ms // (1000 * 60 * 60))\n",
    "    return f\"{hours}:{minutes:02}:{seconds:02}\""
   ]
  },
  {
   "cell_type": "code",
   "execution_count": 7,
   "metadata": {},
   "outputs": [],
   "source": [
    "def get_tracks_for_album(album_id):\n",
    "    album_tracks = sp.album_tracks(album_id)\n",
    "    return album_tracks['items']"
   ]
  },
  {
   "cell_type": "code",
   "execution_count": 8,
   "metadata": {},
   "outputs": [],
   "source": [
    "def get_song_features(track_id):\n",
    "    song_features = sp.audio_features(track_id)\n",
    "    return song_features[0] if song_features else None"
   ]
  },
  {
   "cell_type": "code",
   "execution_count": 9,
   "metadata": {},
   "outputs": [],
   "source": [
    "# this is a list of dicts, and which track it comes from is unspecified\n",
    "def get_all_audio_features(track_ids):\n",
    "    features_list = []\n",
    "    for track_id in track_ids:\n",
    "        features = get_song_features(track_id)\n",
    "        if features:\n",
    "            features_list.append(features)\n",
    "    return features_list"
   ]
  },
  {
   "cell_type": "code",
   "execution_count": 10,
   "metadata": {},
   "outputs": [],
   "source": [
    "# function to calculate mean/median/mode of any audio feature\n",
    "def calculate_average_features(audio_features, feature_list):\n",
    "    if not audio_features:\n",
    "        return None\n",
    "    \n",
    "    # df from the audio features in the list of dicts provided\n",
    "    features_df = pd.DataFrame(audio_features)\n",
    "\n",
    "    # display(features_df)\n",
    "\n",
    "    # the mean for the specified features, while appending \"_avg\" to the col name using rename and a lamba func\n",
    "    mean_features = features_df[feature_list].mean().rename(lambda x: f\"{x}_avg\").to_dict()\n",
    "\n",
    "    # if i didnt want to change the col name, i'd just do this:\n",
    "    # mean_features = features_df[feature_list].mean().to_dict()\n",
    "\n",
    "    # dict of avg values for the specified features\n",
    "    # print(mean_features)\n",
    "    return mean_features\n"
   ]
  },
  {
   "cell_type": "code",
   "execution_count": 11,
   "metadata": {},
   "outputs": [],
   "source": [
    "# function that takes in album and artist, and outputs the album info\n",
    "def get_album_info(album_title, artist_name):\n",
    "    query = f'album:{album_title} artist:{artist_name}' # spotify api syntax for this search query\n",
    "    result = sp.search(q=query, type='album', limit=1) # returns the album, 1\n",
    "    \n",
    "    # print(result)\n",
    "    if result['albums']['items']:\n",
    "        # parse JSON to get the first (and only) album for its info\n",
    "        album = result['albums']['items'][0]\n",
    "        album_id = album['id']\n",
    "\n",
    "        # detailed info like genre and popularity\n",
    "        album_details = sp.album(album['id'])\n",
    "        print(album_details['popularity'])\n",
    "        # print(album_details['genres'])\n",
    "\n",
    "        # Get album tracks\n",
    "        tracks = get_tracks_for_album(album_id)\n",
    "\n",
    "        # track duration sum for album duration\n",
    "        track_durations = [track['duration_ms'] for track in tracks]\n",
    "        total_duration_ms = sum(track_durations)\n",
    "        print(format_duration(total_duration_ms))\n",
    "\n",
    "        # extract details from JSON and put into new dict of info for the album\n",
    "        album_data = {\n",
    "            'album_title': album['name'],\n",
    "            'album_id': album['id'],\n",
    "            'artist_name': album['artists'][0]['name'], #this is just 1 artist for now, but later can make a list if theres multiple primary artists\n",
    "            'release_date': album['release_date'],\n",
    "            'total_tracks': album['total_tracks'],\n",
    "            'duration_ms': total_duration_ms,\n",
    "            'duration': format_duration(total_duration_ms),\n",
    "            'genres': album.get('genres', []), #avoid error if no genres specified\n",
    "            'popularity': album_details['popularity'],\n",
    "            'uri': album['uri']\n",
    "        }\n",
    "        return album_data\n",
    "    else:\n",
    "        return None"
   ]
  },
  {
   "cell_type": "code",
   "execution_count": 12,
   "metadata": {},
   "outputs": [],
   "source": [
    "def read_csv(file_path):\n",
    "    return pd.read_csv(file_path)"
   ]
  },
  {
   "cell_type": "code",
   "execution_count": 17,
   "metadata": {},
   "outputs": [],
   "source": [
    "# Main function\n",
    "def main():\n",
    "    # csv file path\n",
    "    csv_file_path = '../data/albums.csv'\n",
    "\n",
    "    # read csv into pandas dataframe\n",
    "    df = read_csv(csv_file_path)\n",
    "\n",
    "    # process the df \n",
    "    album_data_list = []\n",
    "    # go through each row of the df (each album) and get the data \n",
    "    for index, row in df.iterrows():\n",
    "        album_title = row['album_title']\n",
    "        artist_name = row['artist_name']\n",
    "\n",
    "        album_data = get_album_info(album_title, artist_name)\n",
    "\n",
    "        # individual track data for the album\n",
    "        if album_data:\n",
    "            track_ids = [track['id'] for track in get_tracks_for_album(album_data['album_id'])]\n",
    "            audio_features = get_all_audio_features(track_ids)\n",
    "            album_data['audio_features'] = audio_features  # Store audio features in the album data\n",
    "            # print(album_data['audio_features'])\n",
    "\n",
    "            # calculate avg audio features (e.g. danceability, energy)\n",
    "            features_to_average = ['tempo', 'valence', 'danceability', 'energy', 'acousticness', 'liveness', 'loudness','speechiness'] # later, keep track of mode for key and time signature? or need specifics # of a certain key/time sig? will compare at the end across all albums accumulated\n",
    "            avg_features = calculate_average_features(audio_features, features_to_average) #returns dict of features avg\n",
    "\n",
    "            # add the average features dict to the album data dict\n",
    "            album_data.update(avg_features)\n",
    "\n",
    "            # keep in mind the avg of avgs across other albums isnt the same mathematically, if i were to want to do track data (like finding the mode for the keys etc as i noted above)\n",
    "\n",
    "            # print(f\"Album: {album_data['album_title']} by {album_data['artist_name']}\")\n",
    "            # for feature, avg_value in avg_features.items():\n",
    "            #     print(f\"Average {feature.capitalize()}: {avg_value:.2f}\")\n",
    "\n",
    "            # appends album data to the list of albums' datas\n",
    "            # check/print this\n",
    "            album_data_list.append(album_data)\n",
    "\n",
    "    # convert this album data list to a new df with all the info it pulled\n",
    "    album_data_df = pd.DataFrame(album_data_list)\n",
    "\n",
    "    # here, we can analyze the data or do more with it\n",
    "    # print(album_data_df)\n",
    "    # print(type(album_data_df))\n",
    "    # print(album_data_df.head())  # Show first few rows to confirm content\n",
    "\n",
    "    # album_data_df # in jupyter notebook, this shows the df\n",
    "    # album_data_df.head()  # Shows the first 5 rows\n",
    "\n",
    "    display(album_data_df)\n",
    "\n",
    "\n",
    "    # output the average length (calculate)\n",
    "    # Calculate average album length\n",
    "\n",
    "    average_album_duration = 0\n",
    "    sum_duration = 0\n",
    "    average_tracks = 0\n",
    "    sum_tracks = 0\n",
    "    \n",
    "    if not album_data_df.empty:\n",
    "        # print(int(album_data_df['duration_ms'].mean()))\n",
    "\n",
    "        sum_duration = format_duration(album_data_df['duration_ms'].sum())\n",
    "        average_album_duration = int(album_data_df['duration_ms'].mean())\n",
    "        sum_tracks = album_data_df['total_tracks'].sum()\n",
    "        average_tracks = album_data_df['total_tracks'].mean()\n",
    "        # print(f'Average album duration: {format_duration(average_album_duration)} minutes')\n",
    "        # print(f'Total duration: {sum_duration}') \n",
    "        # print(f'Average number of tracks: {average_tracks:.2f}') \n",
    "        # print(f'Total tracks: {sum_tracks}')\n",
    "\n",
    "        summary_data = {\n",
    "            'sum_duration': sum_duration,\n",
    "            'average_duration': average_album_duration,\n",
    "            'sum_tracks': sum_tracks,\n",
    "            'average_tracks': average_tracks,\n",
    "            'album_count': album_data_df.shape[0]\n",
    "        }\n",
    "\n",
    "        summary_df = pd.DataFrame([summary_data])  # create df from summary data\n",
    "    # else:\n",
    "    #     print('No album data available.')\n",
    "\n",
    "    # access genre by album title\n",
    "    # album_title = 'GUTS'\n",
    "    # first_album_genre = album_data_df[album_data_df['album_title'] == album_title]['genres'].values[0]\n",
    "    # print(first_album_genre)\n",
    "\n",
    "    # audio features average\n",
    "    # print(album_data_df['audio_features'])\n",
    "\n",
    "    # export dfs to CSV\n",
    "        album_data_df.to_json('../data/album_data.json', index=False)\n",
    "        summary_df.to_json('../data/summary_analysis.json', index=False)\n",
    "\n",
    "    print(\"Album data and summary analysis exported successfully.\")"
   ]
  },
  {
   "cell_type": "code",
   "execution_count": null,
   "metadata": {},
   "outputs": [],
   "source": [
    "main()"
   ]
  },
  {
   "cell_type": "code",
   "execution_count": null,
   "metadata": {},
   "outputs": [],
   "source": []
  }
 ],
 "metadata": {
  "kernelspec": {
   "display_name": "Python 3 (ipykernel)",
   "language": "python",
   "name": "python3"
  },
  "language_info": {
   "codemirror_mode": {
    "name": "ipython",
    "version": 3
   },
   "file_extension": ".py",
   "mimetype": "text/x-python",
   "name": "python",
   "nbconvert_exporter": "python",
   "pygments_lexer": "ipython3",
   "version": "3.11.9"
  }
 },
 "nbformat": 4,
 "nbformat_minor": 4
}
