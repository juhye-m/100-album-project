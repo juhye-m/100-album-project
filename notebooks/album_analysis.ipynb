{
 "cells": [
  {
   "cell_type": "code",
   "execution_count": 2,
   "metadata": {},
   "outputs": [],
   "source": [
    "# imports\n",
    "from dotenv import load_dotenv\n",
    "import os\n",
    "import pandas as pd\n",
    "import spotipy\n",
    "from spotipy.oauth2 import SpotifyClientCredentials\n",
    "from IPython.display import display\n",
    "import numpy as np"
   ]
  },
  {
   "cell_type": "code",
   "execution_count": 3,
   "metadata": {},
   "outputs": [],
   "source": [
    "# load env variables\n",
    "load_dotenv()\n",
    "\n",
    "# get the client id and secret from the env\n",
    "client_id = os.getenv('SPOTIPY_CLIENT_ID')\n",
    "client_secret = os.getenv('SPOTIPY_CLIENT_SECRET')"
   ]
  },
  {
   "cell_type": "code",
   "execution_count": 4,
   "metadata": {},
   "outputs": [],
   "source": [
    "# set up spotipy with my client credentials. use the sp object to call methods / interact with the api\n",
    "sp = spotipy.Spotify(auth_manager=SpotifyClientCredentials(client_id=client_id, client_secret=client_secret))"
   ]
  },
  {
   "cell_type": "code",
   "execution_count": 5,
   "metadata": {},
   "outputs": [],
   "source": [
    "# Set pandas to display longer content without truncation\n",
    "# pd.set_option('display.max_colwidth', None)  # No limit on column width\n",
    "# pd.set_option('display.max_rows', None)      # No limit on rows displayed"
   ]
  },
  {
   "cell_type": "code",
   "execution_count": 6,
   "metadata": {},
   "outputs": [],
   "source": [
    "# format time duration\n",
    "def format_duration(duration_ms):\n",
    "    # HH:MM:SS format\n",
    "    seconds = (duration_ms // 1000) % 60\n",
    "    minutes = (duration_ms // (1000 * 60)) % 60\n",
    "    hours = (duration_ms // (1000 * 60 * 60))\n",
    "    return f\"{hours}:{minutes:02}:{seconds:02}\""
   ]
  },
  {
   "cell_type": "code",
   "execution_count": 7,
   "metadata": {},
   "outputs": [],
   "source": [
    "def get_tracks_for_album(album_id):\n",
    "    album_tracks = sp.album_tracks(album_id)\n",
    "    return album_tracks['items']"
   ]
  },
  {
   "cell_type": "code",
   "execution_count": 8,
   "metadata": {},
   "outputs": [],
   "source": [
    "def get_song_features(track_id):\n",
    "    song_features = sp.audio_features(track_id)\n",
    "    return song_features[0] if song_features else None"
   ]
  },
  {
   "cell_type": "code",
   "execution_count": 9,
   "metadata": {},
   "outputs": [],
   "source": [
    "# this is a list of dicts, and which track it comes from is unspecified\n",
    "def get_all_audio_features(track_ids):\n",
    "    features_list = []\n",
    "    for track_id in track_ids:\n",
    "        features = get_song_features(track_id)\n",
    "        if features:\n",
    "            features_list.append(features)\n",
    "    return features_list"
   ]
  },
  {
   "cell_type": "code",
   "execution_count": 10,
   "metadata": {},
   "outputs": [],
   "source": [
    "# function to calculate mean/median/mode of any audio feature\n",
    "def calculate_average_features(audio_features, feature_list):\n",
    "    if not audio_features:\n",
    "        return None\n",
    "    \n",
    "    # df from the audio features in the list of dicts provided\n",
    "    features_df = pd.DataFrame(audio_features)\n",
    "\n",
    "    # display(features_df)\n",
    "\n",
    "    # the mean for the specified features, while appending \"_avg\" to the col name using rename and a lamba func\n",
    "    mean_features = features_df[feature_list].mean().rename(lambda x: f\"{x}_avg\").to_dict()\n",
    "\n",
    "    # if i didnt want to change the col name, i'd just do this:\n",
    "    # mean_features = features_df[feature_list].mean().to_dict()\n",
    "\n",
    "    # dict of avg values for the specified features\n",
    "    # print(mean_features)\n",
    "    return mean_features\n"
   ]
  },
  {
   "cell_type": "code",
   "execution_count": 11,
   "metadata": {},
   "outputs": [],
   "source": [
    "# function that takes in album and artist, and outputs the album info\n",
    "def get_album_info(album_title, artist_name):\n",
    "    query = f'album:{album_title} artist:{artist_name}' # spotify api syntax for this search query\n",
    "    result = sp.search(q=query, type='album', limit=1) # returns the album, 1\n",
    "    \n",
    "    # print(result)\n",
    "    if result['albums']['items']:\n",
    "        # parse JSON to get the first (and only) album for its info\n",
    "        album = result['albums']['items'][0]\n",
    "        album_id = album['id']\n",
    "\n",
    "        # detailed info like genre and popularity\n",
    "        album_details = sp.album(album['id'])\n",
    "        print(album_details['popularity'])\n",
    "        # print(album_details['genres'])\n",
    "\n",
    "        # Get album tracks\n",
    "        tracks = get_tracks_for_album(album_id)\n",
    "\n",
    "        # track duration sum for album duration\n",
    "        track_durations = [track['duration_ms'] for track in tracks]\n",
    "        total_duration_ms = sum(track_durations)\n",
    "        print(format_duration(total_duration_ms))\n",
    "\n",
    "        # extract details from JSON and put into new dict of info for the album\n",
    "        album_data = {\n",
    "            'album_title': album['name'],\n",
    "            'album_id': album['id'],\n",
    "            'artist_name': album['artists'][0]['name'], #this is just 1 artist for now, but later can make a list if theres multiple primary artists\n",
    "            'release_date': album['release_date'],\n",
    "            'total_tracks': album['total_tracks'],\n",
    "            'duration_ms': total_duration_ms,\n",
    "            'duration': format_duration(total_duration_ms),\n",
    "            'genres': album.get('genres', []), #avoid error if no genres specified\n",
    "            'popularity': album_details['popularity'],\n",
    "            'uri': album['uri']\n",
    "        }\n",
    "        return album_data\n",
    "    else:\n",
    "        return None"
   ]
  },
  {
   "cell_type": "code",
   "execution_count": 12,
   "metadata": {},
   "outputs": [],
   "source": [
    "def read_csv(file_path):\n",
    "    return pd.read_csv(file_path)"
   ]
  },
  {
   "cell_type": "code",
   "execution_count": 15,
   "metadata": {},
   "outputs": [],
   "source": [
    "# Main function\n",
    "def main():\n",
    "    # csv file path\n",
    "    csv_file_path = '../data/albums.csv'\n",
    "\n",
    "    # read csv into pandas dataframe\n",
    "    df = read_csv(csv_file_path)\n",
    "\n",
    "    # process the df \n",
    "    album_data_list = []\n",
    "    # go through each row of the df (each album) and get the data \n",
    "    for index, row in df.iterrows():\n",
    "        album_title = row['album_title']\n",
    "        artist_name = row['artist_name']\n",
    "\n",
    "        album_data = get_album_info(album_title, artist_name)\n",
    "\n",
    "        # individual track data for the album\n",
    "        if album_data:\n",
    "            track_ids = [track['id'] for track in get_tracks_for_album(album_data['album_id'])]\n",
    "            audio_features = get_all_audio_features(track_ids)\n",
    "            album_data['audio_features'] = audio_features  # Store audio features in the album data\n",
    "            # print(album_data['audio_features'])\n",
    "\n",
    "            # calculate avg audio features (e.g. danceability, energy)\n",
    "            features_to_average = ['tempo', 'valence', 'danceability', 'energy', 'acousticness', 'liveness', 'loudness','speechiness'] # later, keep track of mode for key and time signature? or need specifics # of a certain key/time sig? will compare at the end across all albums accumulated\n",
    "            avg_features = calculate_average_features(audio_features, features_to_average) #returns dict of features avg\n",
    "\n",
    "            # add the average features dict to the album data dict\n",
    "            album_data.update(avg_features)\n",
    "\n",
    "            # keep in mind the avg of avgs across other albums isnt the same mathematically, if i were to want to do track data (like finding the mode for the keys etc as i noted above)\n",
    "\n",
    "            # print(f\"Album: {album_data['album_title']} by {album_data['artist_name']}\")\n",
    "            # for feature, avg_value in avg_features.items():\n",
    "            #     print(f\"Average {feature.capitalize()}: {avg_value:.2f}\")\n",
    "\n",
    "            # appends album data to the list of albums' datas\n",
    "            # check/print this\n",
    "            album_data_list.append(album_data)\n",
    "\n",
    "    # convert this album data list to a new df with all the info it pulled\n",
    "    album_data_df = pd.DataFrame(album_data_list)\n",
    "\n",
    "    # here, we can analyze the data or do more with it\n",
    "    # print(album_data_df)\n",
    "    # print(type(album_data_df))\n",
    "    # print(album_data_df.head())  # Show first few rows to confirm content\n",
    "\n",
    "    # album_data_df # in jupyter notebook, this shows the df\n",
    "    # album_data_df.head()  # Shows the first 5 rows\n",
    "\n",
    "    display(album_data_df)\n",
    "\n",
    "\n",
    "    # output the average length (calculate)\n",
    "    # Calculate average album length\n",
    "\n",
    "    average_album_duration = 0\n",
    "    sum_duration = 0\n",
    "    average_tracks = 0\n",
    "    sum_tracks = 0\n",
    "    \n",
    "    if not album_data_df.empty:\n",
    "        # print(int(album_data_df['duration_ms'].mean()))\n",
    "\n",
    "        sum_duration = format_duration(album_data_df['duration_ms'].sum())\n",
    "        average_album_duration = int(album_data_df['duration_ms'].mean())\n",
    "        sum_tracks = album_data_df['total_tracks'].sum()\n",
    "        average_tracks = album_data_df['total_tracks'].mean()\n",
    "        # print(f'Average album duration: {format_duration(average_album_duration)} minutes')\n",
    "        # print(f'Total duration: {sum_duration}') \n",
    "        # print(f'Average number of tracks: {average_tracks:.2f}') \n",
    "        # print(f'Total tracks: {sum_tracks}')\n",
    "\n",
    "        summary_data = {\n",
    "            'sum_duration': sum_duration,\n",
    "            'average_duration': average_album_duration,\n",
    "            'sum_tracks': sum_tracks,\n",
    "            'average_tracks': average_tracks,\n",
    "            'album_count': album_data_df.shape[0]\n",
    "        }\n",
    "\n",
    "        summary_df = pd.DataFrame([summary_data])  # create df from summary data\n",
    "    # else:\n",
    "    #     print('No album data available.')\n",
    "\n",
    "    # access genre by album title\n",
    "    # album_title = 'GUTS'\n",
    "    # first_album_genre = album_data_df[album_data_df['album_title'] == album_title]['genres'].values[0]\n",
    "    # print(first_album_genre)\n",
    "\n",
    "    # audio features average\n",
    "    # print(album_data_df['audio_features'])\n",
    "\n",
    "    # export dfs to CSV\n",
    "        album_data_df.to_json('../data/album_data.json', index=False)\n",
    "        summary_df.to_json('../data/summary_analysis.json', index=False)\n",
    "\n",
    "    print(\"Album data and summary analysis exported successfully.\")"
   ]
  },
  {
   "cell_type": "code",
   "execution_count": 16,
   "metadata": {},
   "outputs": [
    {
     "ename": "FileNotFoundError",
     "evalue": "[Errno 2] No such file or directory: 'data/albums.csv'",
     "output_type": "error",
     "traceback": [
      "\u001b[0;31m---------------------------------------------------------------------------\u001b[0m",
      "\u001b[0;31mFileNotFoundError\u001b[0m                         Traceback (most recent call last)",
      "Cell \u001b[0;32mIn[16], line 1\u001b[0m\n\u001b[0;32m----> 1\u001b[0m main()\n",
      "Cell \u001b[0;32mIn[15], line 7\u001b[0m, in \u001b[0;36mmain\u001b[0;34m()\u001b[0m\n\u001b[1;32m      4\u001b[0m csv_file_path \u001b[38;5;241m=\u001b[39m \u001b[38;5;124m'\u001b[39m\u001b[38;5;124mdata/albums.csv\u001b[39m\u001b[38;5;124m'\u001b[39m\n\u001b[1;32m      6\u001b[0m \u001b[38;5;66;03m# read csv into pandas dataframe\u001b[39;00m\n\u001b[0;32m----> 7\u001b[0m df \u001b[38;5;241m=\u001b[39m read_csv(csv_file_path)\n\u001b[1;32m      9\u001b[0m \u001b[38;5;66;03m# process the df \u001b[39;00m\n\u001b[1;32m     10\u001b[0m album_data_list \u001b[38;5;241m=\u001b[39m []\n",
      "Cell \u001b[0;32mIn[12], line 2\u001b[0m, in \u001b[0;36mread_csv\u001b[0;34m(file_path)\u001b[0m\n\u001b[1;32m      1\u001b[0m \u001b[38;5;28;01mdef\u001b[39;00m \u001b[38;5;21mread_csv\u001b[39m(file_path):\n\u001b[0;32m----> 2\u001b[0m     \u001b[38;5;28;01mreturn\u001b[39;00m pd\u001b[38;5;241m.\u001b[39mread_csv(file_path)\n",
      "File \u001b[0;32m/opt/anaconda3/envs/100-albums/lib/python3.11/site-packages/pandas/io/parsers/readers.py:1026\u001b[0m, in \u001b[0;36mread_csv\u001b[0;34m(filepath_or_buffer, sep, delimiter, header, names, index_col, usecols, dtype, engine, converters, true_values, false_values, skipinitialspace, skiprows, skipfooter, nrows, na_values, keep_default_na, na_filter, verbose, skip_blank_lines, parse_dates, infer_datetime_format, keep_date_col, date_parser, date_format, dayfirst, cache_dates, iterator, chunksize, compression, thousands, decimal, lineterminator, quotechar, quoting, doublequote, escapechar, comment, encoding, encoding_errors, dialect, on_bad_lines, delim_whitespace, low_memory, memory_map, float_precision, storage_options, dtype_backend)\u001b[0m\n\u001b[1;32m   1013\u001b[0m kwds_defaults \u001b[38;5;241m=\u001b[39m _refine_defaults_read(\n\u001b[1;32m   1014\u001b[0m     dialect,\n\u001b[1;32m   1015\u001b[0m     delimiter,\n\u001b[0;32m   (...)\u001b[0m\n\u001b[1;32m   1022\u001b[0m     dtype_backend\u001b[38;5;241m=\u001b[39mdtype_backend,\n\u001b[1;32m   1023\u001b[0m )\n\u001b[1;32m   1024\u001b[0m kwds\u001b[38;5;241m.\u001b[39mupdate(kwds_defaults)\n\u001b[0;32m-> 1026\u001b[0m \u001b[38;5;28;01mreturn\u001b[39;00m _read(filepath_or_buffer, kwds)\n",
      "File \u001b[0;32m/opt/anaconda3/envs/100-albums/lib/python3.11/site-packages/pandas/io/parsers/readers.py:620\u001b[0m, in \u001b[0;36m_read\u001b[0;34m(filepath_or_buffer, kwds)\u001b[0m\n\u001b[1;32m    617\u001b[0m _validate_names(kwds\u001b[38;5;241m.\u001b[39mget(\u001b[38;5;124m\"\u001b[39m\u001b[38;5;124mnames\u001b[39m\u001b[38;5;124m\"\u001b[39m, \u001b[38;5;28;01mNone\u001b[39;00m))\n\u001b[1;32m    619\u001b[0m \u001b[38;5;66;03m# Create the parser.\u001b[39;00m\n\u001b[0;32m--> 620\u001b[0m parser \u001b[38;5;241m=\u001b[39m TextFileReader(filepath_or_buffer, \u001b[38;5;241m*\u001b[39m\u001b[38;5;241m*\u001b[39mkwds)\n\u001b[1;32m    622\u001b[0m \u001b[38;5;28;01mif\u001b[39;00m chunksize \u001b[38;5;129;01mor\u001b[39;00m iterator:\n\u001b[1;32m    623\u001b[0m     \u001b[38;5;28;01mreturn\u001b[39;00m parser\n",
      "File \u001b[0;32m/opt/anaconda3/envs/100-albums/lib/python3.11/site-packages/pandas/io/parsers/readers.py:1620\u001b[0m, in \u001b[0;36mTextFileReader.__init__\u001b[0;34m(self, f, engine, **kwds)\u001b[0m\n\u001b[1;32m   1617\u001b[0m     \u001b[38;5;28mself\u001b[39m\u001b[38;5;241m.\u001b[39moptions[\u001b[38;5;124m\"\u001b[39m\u001b[38;5;124mhas_index_names\u001b[39m\u001b[38;5;124m\"\u001b[39m] \u001b[38;5;241m=\u001b[39m kwds[\u001b[38;5;124m\"\u001b[39m\u001b[38;5;124mhas_index_names\u001b[39m\u001b[38;5;124m\"\u001b[39m]\n\u001b[1;32m   1619\u001b[0m \u001b[38;5;28mself\u001b[39m\u001b[38;5;241m.\u001b[39mhandles: IOHandles \u001b[38;5;241m|\u001b[39m \u001b[38;5;28;01mNone\u001b[39;00m \u001b[38;5;241m=\u001b[39m \u001b[38;5;28;01mNone\u001b[39;00m\n\u001b[0;32m-> 1620\u001b[0m \u001b[38;5;28mself\u001b[39m\u001b[38;5;241m.\u001b[39m_engine \u001b[38;5;241m=\u001b[39m \u001b[38;5;28mself\u001b[39m\u001b[38;5;241m.\u001b[39m_make_engine(f, \u001b[38;5;28mself\u001b[39m\u001b[38;5;241m.\u001b[39mengine)\n",
      "File \u001b[0;32m/opt/anaconda3/envs/100-albums/lib/python3.11/site-packages/pandas/io/parsers/readers.py:1880\u001b[0m, in \u001b[0;36mTextFileReader._make_engine\u001b[0;34m(self, f, engine)\u001b[0m\n\u001b[1;32m   1878\u001b[0m     \u001b[38;5;28;01mif\u001b[39;00m \u001b[38;5;124m\"\u001b[39m\u001b[38;5;124mb\u001b[39m\u001b[38;5;124m\"\u001b[39m \u001b[38;5;129;01mnot\u001b[39;00m \u001b[38;5;129;01min\u001b[39;00m mode:\n\u001b[1;32m   1879\u001b[0m         mode \u001b[38;5;241m+\u001b[39m\u001b[38;5;241m=\u001b[39m \u001b[38;5;124m\"\u001b[39m\u001b[38;5;124mb\u001b[39m\u001b[38;5;124m\"\u001b[39m\n\u001b[0;32m-> 1880\u001b[0m \u001b[38;5;28mself\u001b[39m\u001b[38;5;241m.\u001b[39mhandles \u001b[38;5;241m=\u001b[39m get_handle(\n\u001b[1;32m   1881\u001b[0m     f,\n\u001b[1;32m   1882\u001b[0m     mode,\n\u001b[1;32m   1883\u001b[0m     encoding\u001b[38;5;241m=\u001b[39m\u001b[38;5;28mself\u001b[39m\u001b[38;5;241m.\u001b[39moptions\u001b[38;5;241m.\u001b[39mget(\u001b[38;5;124m\"\u001b[39m\u001b[38;5;124mencoding\u001b[39m\u001b[38;5;124m\"\u001b[39m, \u001b[38;5;28;01mNone\u001b[39;00m),\n\u001b[1;32m   1884\u001b[0m     compression\u001b[38;5;241m=\u001b[39m\u001b[38;5;28mself\u001b[39m\u001b[38;5;241m.\u001b[39moptions\u001b[38;5;241m.\u001b[39mget(\u001b[38;5;124m\"\u001b[39m\u001b[38;5;124mcompression\u001b[39m\u001b[38;5;124m\"\u001b[39m, \u001b[38;5;28;01mNone\u001b[39;00m),\n\u001b[1;32m   1885\u001b[0m     memory_map\u001b[38;5;241m=\u001b[39m\u001b[38;5;28mself\u001b[39m\u001b[38;5;241m.\u001b[39moptions\u001b[38;5;241m.\u001b[39mget(\u001b[38;5;124m\"\u001b[39m\u001b[38;5;124mmemory_map\u001b[39m\u001b[38;5;124m\"\u001b[39m, \u001b[38;5;28;01mFalse\u001b[39;00m),\n\u001b[1;32m   1886\u001b[0m     is_text\u001b[38;5;241m=\u001b[39mis_text,\n\u001b[1;32m   1887\u001b[0m     errors\u001b[38;5;241m=\u001b[39m\u001b[38;5;28mself\u001b[39m\u001b[38;5;241m.\u001b[39moptions\u001b[38;5;241m.\u001b[39mget(\u001b[38;5;124m\"\u001b[39m\u001b[38;5;124mencoding_errors\u001b[39m\u001b[38;5;124m\"\u001b[39m, \u001b[38;5;124m\"\u001b[39m\u001b[38;5;124mstrict\u001b[39m\u001b[38;5;124m\"\u001b[39m),\n\u001b[1;32m   1888\u001b[0m     storage_options\u001b[38;5;241m=\u001b[39m\u001b[38;5;28mself\u001b[39m\u001b[38;5;241m.\u001b[39moptions\u001b[38;5;241m.\u001b[39mget(\u001b[38;5;124m\"\u001b[39m\u001b[38;5;124mstorage_options\u001b[39m\u001b[38;5;124m\"\u001b[39m, \u001b[38;5;28;01mNone\u001b[39;00m),\n\u001b[1;32m   1889\u001b[0m )\n\u001b[1;32m   1890\u001b[0m \u001b[38;5;28;01massert\u001b[39;00m \u001b[38;5;28mself\u001b[39m\u001b[38;5;241m.\u001b[39mhandles \u001b[38;5;129;01mis\u001b[39;00m \u001b[38;5;129;01mnot\u001b[39;00m \u001b[38;5;28;01mNone\u001b[39;00m\n\u001b[1;32m   1891\u001b[0m f \u001b[38;5;241m=\u001b[39m \u001b[38;5;28mself\u001b[39m\u001b[38;5;241m.\u001b[39mhandles\u001b[38;5;241m.\u001b[39mhandle\n",
      "File \u001b[0;32m/opt/anaconda3/envs/100-albums/lib/python3.11/site-packages/pandas/io/common.py:873\u001b[0m, in \u001b[0;36mget_handle\u001b[0;34m(path_or_buf, mode, encoding, compression, memory_map, is_text, errors, storage_options)\u001b[0m\n\u001b[1;32m    868\u001b[0m \u001b[38;5;28;01melif\u001b[39;00m \u001b[38;5;28misinstance\u001b[39m(handle, \u001b[38;5;28mstr\u001b[39m):\n\u001b[1;32m    869\u001b[0m     \u001b[38;5;66;03m# Check whether the filename is to be opened in binary mode.\u001b[39;00m\n\u001b[1;32m    870\u001b[0m     \u001b[38;5;66;03m# Binary mode does not support 'encoding' and 'newline'.\u001b[39;00m\n\u001b[1;32m    871\u001b[0m     \u001b[38;5;28;01mif\u001b[39;00m ioargs\u001b[38;5;241m.\u001b[39mencoding \u001b[38;5;129;01mand\u001b[39;00m \u001b[38;5;124m\"\u001b[39m\u001b[38;5;124mb\u001b[39m\u001b[38;5;124m\"\u001b[39m \u001b[38;5;129;01mnot\u001b[39;00m \u001b[38;5;129;01min\u001b[39;00m ioargs\u001b[38;5;241m.\u001b[39mmode:\n\u001b[1;32m    872\u001b[0m         \u001b[38;5;66;03m# Encoding\u001b[39;00m\n\u001b[0;32m--> 873\u001b[0m         handle \u001b[38;5;241m=\u001b[39m \u001b[38;5;28mopen\u001b[39m(\n\u001b[1;32m    874\u001b[0m             handle,\n\u001b[1;32m    875\u001b[0m             ioargs\u001b[38;5;241m.\u001b[39mmode,\n\u001b[1;32m    876\u001b[0m             encoding\u001b[38;5;241m=\u001b[39mioargs\u001b[38;5;241m.\u001b[39mencoding,\n\u001b[1;32m    877\u001b[0m             errors\u001b[38;5;241m=\u001b[39merrors,\n\u001b[1;32m    878\u001b[0m             newline\u001b[38;5;241m=\u001b[39m\u001b[38;5;124m\"\u001b[39m\u001b[38;5;124m\"\u001b[39m,\n\u001b[1;32m    879\u001b[0m         )\n\u001b[1;32m    880\u001b[0m     \u001b[38;5;28;01melse\u001b[39;00m:\n\u001b[1;32m    881\u001b[0m         \u001b[38;5;66;03m# Binary mode\u001b[39;00m\n\u001b[1;32m    882\u001b[0m         handle \u001b[38;5;241m=\u001b[39m \u001b[38;5;28mopen\u001b[39m(handle, ioargs\u001b[38;5;241m.\u001b[39mmode)\n",
      "\u001b[0;31mFileNotFoundError\u001b[0m: [Errno 2] No such file or directory: 'data/albums.csv'"
     ]
    }
   ],
   "source": [
    "main()"
   ]
  },
  {
   "cell_type": "code",
   "execution_count": null,
   "metadata": {},
   "outputs": [],
   "source": []
  }
 ],
 "metadata": {
  "kernelspec": {
   "display_name": "Python 3 (ipykernel)",
   "language": "python",
   "name": "python3"
  },
  "language_info": {
   "codemirror_mode": {
    "name": "ipython",
    "version": 3
   },
   "file_extension": ".py",
   "mimetype": "text/x-python",
   "name": "python",
   "nbconvert_exporter": "python",
   "pygments_lexer": "ipython3",
   "version": "3.11.9"
  }
 },
 "nbformat": 4,
 "nbformat_minor": 4
}
